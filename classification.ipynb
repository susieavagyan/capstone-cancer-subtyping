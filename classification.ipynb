{
 "cells": [
  {
   "cell_type": "markdown",
   "metadata": {},
   "source": [
    "Supervised classification problem"
   ]
  },
  {
   "cell_type": "code",
   "execution_count": 131,
   "metadata": {},
   "outputs": [],
   "source": [
    "import pandas as pd\n",
    "import numpy as np\n",
    "\n",
    "from sklearn.model_selection import train_test_split\n",
    "\n",
    "from sklearn.neighbors import KNeighborsClassifier\n",
    "\n",
    "from  sklearn.naive_bayes import GaussianNB\n",
    "from  sklearn.naive_bayes import MultinomialNB\n",
    "\n",
    "from sklearn.discriminant_analysis import LinearDiscriminantAnalysis\n",
    "from sklearn.discriminant_analysis import QuadraticDiscriminantAnalysis\n",
    "\n",
    "from sklearn.linear_model import LogisticRegression\n",
    "\n",
    "from sklearn.model_selection import GridSearchCV\n",
    "from sklearn.svm import SVC\n",
    "from sklearn.tree import DecisionTreeClassifier\n",
    "from sklearn.ensemble import RandomForestClassifier\n",
    "from sklearn.ensemble import BaggingClassifier\n",
    "from sklearn.ensemble import AdaBoostClassifier\n",
    "from sklearn.ensemble import GradientBoostingClassifier\n",
    "\n",
    "\n",
    "from sklearn.metrics import classification_report, f1_score, accuracy_score, precision_score, recall_score, confusion_matrix, v_measure_score, calinski_harabasz_score, r2_score, roc_curve, plot_roc_curve, silhouette_score, balanced_accuracy_score, cohen_kappa_score\n",
    "from  sklearn.metrics import auc,roc_curve\n",
    "\n",
    "import matplotlib.pyplot as plt\n",
    "\n",
    "import warnings\n",
    "warnings.filterwarnings('ignore')\n"
   ]
  },
  {
   "cell_type": "code",
   "execution_count": 191,
   "metadata": {},
   "outputs": [],
   "source": [
    "preds = pd.read_csv(\"./results/DEC/dec_cluster_assignments_5.csv\")\n",
    "df = pd.read_csv(\"./results/som/propagated_mut.csv\", delimiter=\",\")\n",
    "# df = pd.read_csv(\"./data/mut_cnv_onehot.csv\", delimiter=\",\")"
   ]
  },
  {
   "cell_type": "code",
   "execution_count": 192,
   "metadata": {},
   "outputs": [],
   "source": [
    "data_ = pd.merge(preds, df)"
   ]
  },
  {
   "cell_type": "code",
   "execution_count": 198,
   "metadata": {},
   "outputs": [],
   "source": [
    "X = np.array(data_.iloc[:, 2:])\n",
    "y = data_.cluster"
   ]
  },
  {
   "cell_type": "code",
   "execution_count": 199,
   "metadata": {},
   "outputs": [
    {
     "data": {
      "text/plain": [
       "(1801, 84)"
      ]
     },
     "execution_count": 199,
     "metadata": {},
     "output_type": "execute_result"
    }
   ],
   "source": [
    "X.shape"
   ]
  },
  {
   "cell_type": "code",
   "execution_count": 200,
   "metadata": {},
   "outputs": [
    {
     "data": {
      "text/plain": [
       "(array([473.,   0., 432.,   0.,   0., 478.,   0., 345.,   0.,  73.]),\n",
       " array([0. , 0.4, 0.8, 1.2, 1.6, 2. , 2.4, 2.8, 3.2, 3.6, 4. ]),\n",
       " <BarContainer object of 10 artists>)"
      ]
     },
     "execution_count": 200,
     "metadata": {},
     "output_type": "execute_result"
    },
    {
     "data": {
      "image/png": "[encoded data removed]",
      "text/plain": [
       "<Figure size 432x288 with 1 Axes>"
      ]
     },
     "metadata": {
      "needs_background": "light"
     },
     "output_type": "display_data"
    }
   ],
   "source": [
    "plt.hist(y)"
   ]
  },
  {
   "cell_type": "markdown",
   "metadata": {},
   "source": [
    "Class imbalance posses a possible need for data over-sampling"
   ]
  },
  {
   "cell_type": "code",
   "execution_count": 201,
   "metadata": {},
   "outputs": [],
   "source": [
    "# # import library\n",
    "# from imblearn.over_sampling import RandomOverSampler\n",
    "\n",
    "# ros = RandomOverSampler(random_state=42)\n",
    "# x_ros, y_ros = ros.fit_resample(data, y_pred)\n",
    "\n",
    "# # fit predictor and target variablex_ros, y_ros = ros.fit_resample(x, y)\n",
    "\n",
    "# plt.hist(y_ros)"
   ]
  },
  {
   "cell_type": "code",
   "execution_count": 202,
   "metadata": {},
   "outputs": [],
   "source": [
    "X_train, X_test, y_train, y_test = train_test_split(X, y, test_size=0.30)"
   ]
  },
  {
   "cell_type": "markdown",
   "metadata": {},
   "source": [
    "Training different classifiers. Obtaining best parameters using Grid Search Cross Validation."
   ]
  },
  {
   "cell_type": "code",
   "execution_count": 203,
   "metadata": {},
   "outputs": [
    {
     "name": "stdout",
     "output_type": "stream",
     "text": [
      "K Neighbors Classifier\n",
      "best_params: {'n_neighbors': 3}\n",
      "score: 0.8436507936507937\n"
     ]
    }
   ],
   "source": [
    "Class = []\n",
    "Best_Parameters = []\n",
    "Precision = []\n",
    "Recall= []\n",
    "Accuracy = []\n",
    "F1 = []\n",
    "Balanced_Acc = []\n",
    "Kappa = []\n",
    "Confusion_Matrix = []\n",
    "#with scale\n",
    "grid = {\"n_neighbors\" : [1, 2, 3, 5, 6, 7, 10, 15] }\n",
    "KNN = KNeighborsClassifier()\n",
    "gs = GridSearchCV(KNN , param_grid=grid, verbose=0)\n",
    "gs.fit(X_train,y_train)\n",
    "print(\"K Neighbors Classifier\")\n",
    "print(\"best_params:\",gs.best_params_)\n",
    "print(\"score:\",gs.best_score_)\n",
    "\n",
    "y_prd = gs.predict(X_test)\n",
    "Class.append(\"KNN\")\n",
    "Best_Parameters.append(gs.best_params_)\n",
    "Precision.append(precision_score( y_test, y_prd, average = \"weighted\"))\n",
    "Recall.append(recall_score( y_test, y_prd, average = \"weighted\"))\n",
    "Accuracy.append(accuracy_score(y_test, y_prd))\n",
    "Balanced_Acc.append(balanced_accuracy_score(y_test, y_prd))\n",
    "Kappa.append(cohen_kappa_score(y_test, y_prd))\n",
    "F1.append(f1_score(y_test, y_prd,  average = \"weighted\"))\n",
    "Confusion_Matrix.append(confusion_matrix(y_test, y_prd))"
   ]
  },
  {
   "cell_type": "code",
   "execution_count": 204,
   "metadata": {},
   "outputs": [
    {
     "name": "stdout",
     "output_type": "stream",
     "text": [
      "Linear Discriminant Analysis\n",
      "best_params: {'solver': 'svd'}\n",
      "score: 0.9333333333333333\n"
     ]
    }
   ],
   "source": [
    "\n",
    "LDA = LinearDiscriminantAnalysis()\n",
    "grid = {\"solver\": [\"svd\", \"lsqr\", \"eigen\"]}\n",
    "\n",
    "gs = GridSearchCV(LDA , param_grid=grid, verbose=0)\n",
    "gs.fit(X_train,y_train)\n",
    "print(\"Linear Discriminant Analysis\")\n",
    "print(\"best_params:\",gs.best_params_)\n",
    "print(\"score:\",gs.best_score_)\n",
    "\n",
    "y_prd = gs.predict(X_test)\n",
    "Class.append(\"LDA\")\n",
    "Best_Parameters.append(gs.best_params_)\n",
    "Precision.append(precision_score( y_test, y_prd, average = \"weighted\"))\n",
    "Recall.append(recall_score( y_test, y_prd, average = \"weighted\"))\n",
    "Balanced_Acc.append(balanced_accuracy_score(y_test, y_prd))\n",
    "Kappa.append(cohen_kappa_score(y_test, y_prd))\n",
    "Accuracy.append(accuracy_score(y_test, y_prd))\n",
    "F1.append(f1_score(y_test, y_prd,  average = \"weighted\"))\n",
    "Confusion_Matrix.append(confusion_matrix(y_test, y_prd))"
   ]
  },
  {
   "cell_type": "code",
   "execution_count": 205,
   "metadata": {},
   "outputs": [
    {
     "name": "stdout",
     "output_type": "stream",
     "text": [
      "Gaussian NB\n",
      "best_params: {'var_smoothing': 0}\n",
      "score: 0.9039682539682541\n"
     ]
    }
   ],
   "source": [
    "GNB = GaussianNB()\n",
    "grid = {\"var_smoothing\":[0,1e-5,1e-6,1e-7, 1e-8, 1e-9, 1e-10]}\n",
    "\n",
    "gs = GridSearchCV(GNB , param_grid=grid, verbose=0)\n",
    "gs.fit(X_train,y_train)\n",
    "print(\"Gaussian NB\")\n",
    "print(\"best_params:\",gs.best_params_)\n",
    "print(\"score:\",gs.best_score_)\n",
    "\n",
    "y_prd = gs.predict(X_test)\n",
    "Class.append(\"GNB\")\n",
    "Best_Parameters.append(gs.best_params_)\n",
    "Precision.append(precision_score( y_test, y_prd, average = \"weighted\"))\n",
    "Recall.append(recall_score( y_test, y_prd, average = \"weighted\"))\n",
    "Balanced_Acc.append(balanced_accuracy_score(y_test, y_prd))\n",
    "Kappa.append(cohen_kappa_score(y_test, y_prd))\n",
    "Accuracy.append(accuracy_score(y_test, y_prd))\n",
    "F1.append(f1_score(y_test, y_prd,  average = \"weighted\"))\n",
    "Confusion_Matrix.append(confusion_matrix(y_test, y_prd))"
   ]
  },
  {
   "cell_type": "code",
   "execution_count": 213,
   "metadata": {},
   "outputs": [
    {
     "name": "stdout",
     "output_type": "stream",
     "text": [
      "Logistic Regression\n",
      "best_params: {'penalty': 'l2'}\n",
      "score: 0.9436507936507936\n"
     ]
    }
   ],
   "source": [
    "LR = LogisticRegression()\n",
    "grid = {\"penalty\" : [\"l1\", \"l2\", \"elasticnet\", \"none\"]}\n",
    "\n",
    "gs = GridSearchCV(LR, param_grid=grid, verbose=0)\n",
    "gs.fit(X_train,y_train)\n",
    "print(\"Logistic Regression\")\n",
    "print(\"best_params:\",gs.best_params_)\n",
    "print(\"score:\",gs.best_score_)\n",
    "\n",
    "y_prd = gs.predict(X_test)\n",
    "Class.append(\"LR\")\n",
    "Best_Parameters.append(gs.best_params_)\n",
    "Precision.append(precision_score( y_test, y_prd, average = \"weighted\"))\n",
    "Recall.append(recall_score( y_test, y_prd, average = \"weighted\"))\n",
    "Balanced_Acc.append(balanced_accuracy_score(y_test, y_prd))\n",
    "Kappa.append(cohen_kappa_score(y_test, y_prd))\n",
    "Accuracy.append(accuracy_score(y_test, y_prd))\n",
    "F1.append(f1_score(y_test, y_prd,  average = \"weighted\"))\n",
    "Confusion_Matrix.append(confusion_matrix(y_test, y_prd))"
   ]
  },
  {
   "cell_type": "code",
   "execution_count": 218,
   "metadata": {},
   "outputs": [],
   "source": [
    "import json\n",
    "labels = list(range(5))\n",
    "\n",
    "f1_scores = f1_score(y_test, y_prd, average=None, labels=labels)\n",
    "f1_scores_with_labels = {label:score for label,score in zip(labels, f1_scores)}\n",
    "with open('file.class_f1_dec', 'w') as file:\n",
    "     file.write(json.dumps(f1_scores_with_labels))"
   ]
  },
  {
   "cell_type": "code",
   "execution_count": 207,
   "metadata": {},
   "outputs": [
    {
     "name": "stdout",
     "output_type": "stream",
     "text": [
      "SVC\n",
      "best_params: {'gamma': 0.01, 'kernel': 'sigmoid'}\n",
      "score: 0.942063492063492\n"
     ]
    }
   ],
   "source": [
    "svc = SVC() \n",
    "grid = { \"gamma\": [0.01, 0.1], 'kernel':['poly', 'sigmoid']}\n",
    "\n",
    "gs = GridSearchCV(svc, param_grid=grid, verbose=0)\n",
    "gs.fit(X_train,y_train)\n",
    "print(\"SVC\")\n",
    "print(\"best_params:\",gs.best_params_)\n",
    "print(\"score:\",gs.best_score_)\n",
    "\n",
    "y_prd = gs.predict(X_test)\n",
    "Class.append(\"SVC\")\n",
    "Best_Parameters.append(gs.best_params_)\n",
    "Precision.append(precision_score( y_test, y_prd, average = \"weighted\"))\n",
    "Recall.append(recall_score( y_test, y_prd, average = \"weighted\"))\n",
    "Balanced_Acc.append(balanced_accuracy_score(y_test, y_prd))\n",
    "Kappa.append(cohen_kappa_score(y_test, y_prd))\n",
    "Accuracy.append(accuracy_score(y_test, y_prd))\n",
    "F1.append(f1_score(y_test, y_prd,  average = \"weighted\"))\n",
    "Confusion_Matrix.append(confusion_matrix(y_test, y_prd)) "
   ]
  },
  {
   "cell_type": "code",
   "execution_count": 208,
   "metadata": {},
   "outputs": [
    {
     "name": "stdout",
     "output_type": "stream",
     "text": [
      "Decision Tree Classifier\n",
      "best_params: {'criterion': 'entropy', 'max_depth': 8, 'splitter': 'best'}\n",
      "score: 0.8642857142857142\n"
     ]
    }
   ],
   "source": [
    "DTC = DecisionTreeClassifier()\n",
    "grid = {\"criterion\": [\"gini\", \"entropy\"], \"splitter\":[\"best\", \"random\"], \"max_depth\": [4,6,8,10,12,20],       }\n",
    "gs = GridSearchCV(DTC, param_grid=grid, verbose=0)\n",
    "gs.fit(X_train,y_train)\n",
    "print(\"Decision Tree Classifier\")\n",
    "print(\"best_params:\",gs.best_params_)\n",
    "print(\"score:\",gs.best_score_)\n",
    "\n",
    "y_prd = gs.predict(X_test)\n",
    "Class.append(\"DTC\")\n",
    "Best_Parameters.append(gs.best_params_)\n",
    "Precision.append(precision_score( y_test, y_prd, average = \"weighted\"))\n",
    "Recall.append(recall_score( y_test, y_prd, average = \"weighted\"))\n",
    "Balanced_Acc.append(balanced_accuracy_score(y_test, y_prd))\n",
    "Kappa.append(cohen_kappa_score(y_test, y_prd))\n",
    "Accuracy.append(accuracy_score(y_test, y_prd))\n",
    "F1.append(f1_score(y_test, y_prd,  average = \"weighted\"))\n",
    "Confusion_Matrix.append(confusion_matrix(y_test, y_prd))"
   ]
  },
  {
   "cell_type": "code",
   "execution_count": 209,
   "metadata": {},
   "outputs": [
    {
     "name": "stdout",
     "output_type": "stream",
     "text": [
      "Random Forest Classifier\n",
      "best_params: {'criterion': 'gini', 'max_depth': 20}\n",
      "score: 0.9238095238095239\n"
     ]
    }
   ],
   "source": [
    "RF = RandomForestClassifier()\n",
    "grid = {\"criterion\": [\"gini\", \"entropy\"], \"max_depth\": [4,6,8,10,12,20]}\n",
    "gs = GridSearchCV(RF, param_grid=grid, verbose=0)\n",
    "gs.fit(X_train, y_train)\n",
    "print(\"Random Forest Classifier\")\n",
    "print(\"best_params:\",gs.best_params_)\n",
    "print(\"score:\",gs.best_score_)\n",
    "\n",
    "y_prd = gs.predict(X_test)\n",
    "\n",
    "Class.append(\"RF\")\n",
    "Best_Parameters.append(gs.best_params_)\n",
    "Precision.append(precision_score( y_test, y_prd, average = \"weighted\"))\n",
    "Recall.append(recall_score( y_test, y_prd, average = \"weighted\"))\n",
    "Balanced_Acc.append(balanced_accuracy_score(y_test, y_prd))\n",
    "Kappa.append(cohen_kappa_score(y_test, y_prd))\n",
    "Accuracy.append(accuracy_score(y_test, y_prd))\n",
    "F1.append(f1_score(y_test, y_prd,  average = \"weighted\"))\n",
    "Confusion_Matrix.append(confusion_matrix(y_test, y_prd))\n"
   ]
  },
  {
   "cell_type": "code",
   "execution_count": 211,
   "metadata": {},
   "outputs": [
    {
     "data": {
      "text/plain": [
       "{0: 0.9419354838709677,\n",
       " 1: 0.9119999999999999,\n",
       " 2: 0.9230769230769231,\n",
       " 3: 0.8627450980392156,\n",
       " 4: 0.8125000000000001}"
      ]
     },
     "execution_count": 211,
     "metadata": {},
     "output_type": "execute_result"
    }
   ],
   "source": [
    "labels = list(range(5))\n",
    "\n",
    "f1_scores = f1_score(y_test, y_prd, average=None, labels=labels)\n",
    "f1_scores_with_labels = {label:score for label,score in zip(labels, f1_scores)}\n",
    "f1_scores_with_labels"
   ]
  },
  {
   "cell_type": "code",
   "execution_count": 212,
   "metadata": {},
   "outputs": [
    {
     "data": {
      "text/plain": [
       "(array([156.,   0., 129.,   0.,   0., 143.,   0., 100.,   0.,  13.]),\n",
       " array([0. , 0.4, 0.8, 1.2, 1.6, 2. , 2.4, 2.8, 3.2, 3.6, 4. ]),\n",
       " <BarContainer object of 10 artists>)"
      ]
     },
     "execution_count": 212,
     "metadata": {},
     "output_type": "execute_result"
    },
    {
     "data": {
      "image/png": "[encoded data removed]",
      "text/plain": [
       "<Figure size 432x288 with 1 Axes>"
      ]
     },
     "metadata": {
      "needs_background": "light"
     },
     "output_type": "display_data"
    }
   ],
   "source": [
    "plt.hist(y_prd)"
   ]
  },
  {
   "cell_type": "code",
   "execution_count": 219,
   "metadata": {},
   "outputs": [
    {
     "name": "stdout",
     "output_type": "stream",
     "text": [
      "Bagging Classifier\n",
      "best_params: {'bootstrap': True}\n",
      "score: 0.8960317460317461\n"
     ]
    }
   ],
   "source": [
    "BG = BaggingClassifier()\n",
    "grid = {\"bootstrap\": [True, False]}\n",
    "gs = GridSearchCV(BG, param_grid=grid, verbose=0)\n",
    "gs.fit(X_train,y_train)\n",
    "print(\"Bagging Classifier\")\n",
    "print(\"best_params:\",gs.best_params_)\n",
    "print(\"score:\",gs.best_score_)\n",
    "\n",
    "y_prd = gs.predict(X_test)\n",
    "\n",
    "Class.append(\"BG\")\n",
    "Best_Parameters.append(gs.best_params_)\n",
    "Precision.append(precision_score( y_test, y_prd, average = \"weighted\"))\n",
    "Recall.append(recall_score( y_test, y_prd, average = \"weighted\"))\n",
    "Balanced_Acc.append(balanced_accuracy_score(y_test, y_prd))\n",
    "Kappa.append(cohen_kappa_score(y_test, y_prd))\n",
    "Accuracy.append(accuracy_score(y_test, y_prd))\n",
    "F1.append(f1_score(y_test, y_prd,  average = \"weighted\"))\n",
    "Confusion_Matrix.append(confusion_matrix(y_test, y_prd))\n"
   ]
  },
  {
   "cell_type": "code",
   "execution_count": 220,
   "metadata": {},
   "outputs": [
    {
     "name": "stdout",
     "output_type": "stream",
     "text": [
      "Ada Boost\n",
      "best_params: {'algorithm': 'SAMME', 'learning_rate': 1, 'n_estimators': 150}\n",
      "score: 0.8920634920634921\n"
     ]
    }
   ],
   "source": [
    "AB = AdaBoostClassifier()\n",
    "grid = {\"learning_rate\": [-0.5,0,0.5,1], \"algorithm\" : [\"SAMME\", \"SAMME.R\"] , \"n_estimators\":[25, 50, 100,150]}\n",
    "gs = GridSearchCV(AB , param_grid=grid, verbose=0)\n",
    "gs.fit(X_train,y_train)\n",
    "print(\"Ada Boost\")\n",
    "print(\"best_params:\",gs.best_params_)\n",
    "print(\"score:\",gs.best_score_)\n",
    "\n",
    "y_prd = gs.predict(X_test)\n",
    "\n",
    "Class.append(\"AB\")\n",
    "Best_Parameters.append(gs.best_params_)\n",
    "Precision.append(precision_score( y_test, y_prd, average = \"weighted\"))\n",
    "Recall.append(recall_score( y_test, y_prd, average = \"weighted\"))\n",
    "Balanced_Acc.append(balanced_accuracy_score(y_test, y_prd))\n",
    "Kappa.append(cohen_kappa_score(y_test, y_prd))\n",
    "Accuracy.append(accuracy_score(y_test, y_prd))\n",
    "F1.append(f1_score(y_test, y_prd,  average = \"weighted\"))\n",
    "Confusion_Matrix.append(confusion_matrix(y_test, y_prd))"
   ]
  },
  {
   "cell_type": "markdown",
   "metadata": {},
   "source": [
    "MLP classifier"
   ]
  },
  {
   "cell_type": "code",
   "execution_count": 221,
   "metadata": {},
   "outputs": [],
   "source": [
    "import torch\n",
    "\n",
    "X_train  = torch.Tensor(X_train)\n",
    "X_test  = torch.Tensor(X_test)\n",
    "\n",
    "y_train  = torch.Tensor(y_train)\n",
    "y_test  = torch.Tensor(y_test.values)\n",
    "\n",
    "y_train = y_train.long()\n",
    "y_test =  y_test.long()"
   ]
  },
  {
   "cell_type": "code",
   "execution_count": 222,
   "metadata": {},
   "outputs": [
    {
     "data": {
      "text/plain": [
       "(1801, 84)"
      ]
     },
     "execution_count": 222,
     "metadata": {},
     "output_type": "execute_result"
    }
   ],
   "source": [
    "X.shape"
   ]
  },
  {
   "cell_type": "code",
   "execution_count": 223,
   "metadata": {},
   "outputs": [],
   "source": [
    "class MLPNet(torch.nn.Module):\n",
    "    def __init__(self):\n",
    "        super(MLPNet, self).__init__()\n",
    "        self.fc1 = torch.nn.Linear(84, 64) \n",
    "        self.act1 = torch.nn.ReLU() \n",
    "        self.fc3 = torch.nn.Linear(64, 32) \n",
    "        self.act3 = torch.nn.ReLU() \n",
    "        self.fc4 = torch.nn.Linear(32, 5) \n",
    "        self.net = torch.nn.Softmax(1)\n",
    "\n",
    "    \n",
    " \n",
    "    def forward(self, x):\n",
    "        x1 = self.act1(self.fc1(x))\n",
    "        x2 = self.act3(self.fc3(x1))\n",
    "        out = self.net(self.fc4(x2))\n",
    "        return out\n",
    "     \n",
    "        \n",
    "model = MLPNet()\n",
    "optimizer = torch.optim.Adam(model.parameters(), lr=0.0001) ##Adam, dif lr, try smaller\n",
    "loss = torch.nn.CrossEntropyLoss() ##weighted classes\n"
   ]
  },
  {
   "cell_type": "code",
   "execution_count": 224,
   "metadata": {},
   "outputs": [
    {
     "data": {
      "text/plain": [
       "<bound method Module.parameters of MLPNet(\n",
       "  (fc1): Linear(in_features=84, out_features=64, bias=True)\n",
       "  (act1): ReLU()\n",
       "  (fc3): Linear(in_features=64, out_features=32, bias=True)\n",
       "  (act3): ReLU()\n",
       "  (fc4): Linear(in_features=32, out_features=5, bias=True)\n",
       "  (net): Softmax(dim=1)\n",
       ")>"
      ]
     },
     "execution_count": 224,
     "metadata": {},
     "output_type": "execute_result"
    }
   ],
   "source": [
    "model.parameters"
   ]
  },
  {
   "cell_type": "code",
   "execution_count": 225,
   "metadata": {},
   "outputs": [],
   "source": [
    "batch_size = 32\n",
    "num_samples, num_features = X_train.shape\n",
    "num_batches = int(num_samples / batch_size)\n",
    "order = np.arange(num_samples)\n",
    "avg_train_loss = []\n",
    "avg_test_loss = []\n",
    "avg_all_loss = []\n",
    "for epoch in range(100):\n",
    "    np.random.shuffle(order)  ##non random, equiclass batches**\n",
    "    minibatches = np.array_split(order, num_batches)\n",
    "    train_loss_ls = []\n",
    "    test_loss_ls = []\n",
    "    all_loss_ls = []\n",
    "    for j in range(num_batches):\n",
    "        batch = minibatches[j]\n",
    "        # Set model to training mode and reset gradient\n",
    "        model.train()\n",
    "        model.zero_grad()\n",
    "        # optimizer.zero_grad()\n",
    "        # Make model prediction using current batch data\n",
    "        y_prd = model(X_train[batch]).squeeze()\n",
    "        # compute_loss\n",
    "        train_loss = loss(y_prd,  y_train[batch])\n",
    "        train_loss_ls.append(train_loss.item())\n",
    "        # compute_gradient\n",
    "        train_loss.backward()\n",
    "        # Step into gradient descent direction. Perform parameter update\n",
    "        optimizer.step()\n",
    "\n",
    "        with torch.no_grad():\n",
    "                model.eval()\n",
    "                test_loss = loss(model(X_test).squeeze(), y_test)\n",
    "                test_loss_ls.append(test_loss.item())\n",
    "                all_loss = train_loss.item() + test_loss.item()\n",
    "                all_loss_ls.append(all_loss)\n",
    "        \n",
    "    \n",
    "    avg_train_loss.append(np.mean(train_loss_ls))\n",
    "    avg_test_loss.append(np.mean(test_loss_ls))\n",
    "    avg_all_loss.append(np.mean(all_loss_ls))\n",
    "\n",
    "\n"
   ]
  },
  {
   "cell_type": "code",
   "execution_count": 226,
   "metadata": {},
   "outputs": [
    {
     "data": {
      "text/plain": [
       "[<matplotlib.lines.Line2D at 0x14044bf65c0>]"
      ]
     },
     "execution_count": 226,
     "metadata": {},
     "output_type": "execute_result"
    },
    {
     "data": {
      "image/png": "[encoded data removed]",
      "text/plain": [
       "<Figure size 432x288 with 1 Axes>"
      ]
     },
     "metadata": {
      "needs_background": "light"
     },
     "output_type": "display_data"
    }
   ],
   "source": [
    "plt.plot(range(100), avg_train_loss)"
   ]
  },
  {
   "cell_type": "code",
   "execution_count": 227,
   "metadata": {},
   "outputs": [
    {
     "data": {
      "text/plain": [
       "[<matplotlib.lines.Line2D at 0x1404556f430>]"
      ]
     },
     "execution_count": 227,
     "metadata": {},
     "output_type": "execute_result"
    },
    {
     "data": {
      "image/png": "[encoded data removed]",
      "text/plain": [
       "<Figure size 432x288 with 1 Axes>"
      ]
     },
     "metadata": {
      "needs_background": "light"
     },
     "output_type": "display_data"
    }
   ],
   "source": [
    "plt.plot(range(100), avg_test_loss)"
   ]
  },
  {
   "cell_type": "code",
   "execution_count": 228,
   "metadata": {},
   "outputs": [
    {
     "data": {
      "text/plain": [
       "(array([151.,   0., 124.,   0.,   0., 151.,   0.,  99.,   0.,  16.]),\n",
       " array([0. , 0.4, 0.8, 1.2, 1.6, 2. , 2.4, 2.8, 3.2, 3.6, 4. ]),\n",
       " <BarContainer object of 10 artists>)"
      ]
     },
     "execution_count": 228,
     "metadata": {},
     "output_type": "execute_result"
    },
    {
     "data": {
      "image/png": "[encoded data removed]",
      "text/plain": [
       "<Figure size 432x288 with 1 Axes>"
      ]
     },
     "metadata": {
      "needs_background": "light"
     },
     "output_type": "display_data"
    }
   ],
   "source": [
    "a = np.array(torch.argmax(model(X_test).squeeze(), axis = 1))\n",
    "plt.hist(a)"
   ]
  },
  {
   "cell_type": "code",
   "execution_count": 229,
   "metadata": {},
   "outputs": [],
   "source": [
    "gs = model\n",
    "y_prd = np.array(torch.argmax(model(X_test).squeeze(), axis = 1))\n",
    "\n",
    "Class.append(\"MLP\")\n",
    "Best_Parameters.append(gs.parameters)\n",
    "Precision.append(precision_score( y_test, y_prd, average = \"weighted\"))\n",
    "Recall.append(recall_score( y_test, y_prd, average = \"weighted\"))\n",
    "Balanced_Acc.append(balanced_accuracy_score(y_test, y_prd))\n",
    "Kappa.append(cohen_kappa_score(y_test, y_prd))\n",
    "Accuracy.append(accuracy_score(y_test, y_prd))\n",
    "F1.append(f1_score(y_test, y_prd,  average = \"weighted\"))\n",
    "Confusion_Matrix.append(confusion_matrix(y_test, y_prd))"
   ]
  },
  {
   "cell_type": "code",
   "execution_count": 230,
   "metadata": {},
   "outputs": [
    {
     "data": {
      "image/png": "[encoded data removed]",
      "text/plain": [
       "<Figure size 432x288 with 1 Axes>"
      ]
     },
     "metadata": {
      "needs_background": "light"
     },
     "output_type": "display_data"
    },
    {
     "data": {
      "image/png": "[encoded data removed]",
      "text/plain": [
       "<Figure size 432x288 with 1 Axes>"
      ]
     },
     "metadata": {
      "needs_background": "light"
     },
     "output_type": "display_data"
    },
    {
     "data": {
      "image/png": "[encoded data removed]",
      "text/plain": [
       "<Figure size 432x288 with 1 Axes>"
      ]
     },
     "metadata": {
      "needs_background": "light"
     },
     "output_type": "display_data"
    },
    {
     "data": {
      "image/png": "[encoded data removed]",
      "text/plain": [
       "<Figure size 432x288 with 1 Axes>"
      ]
     },
     "metadata": {
      "needs_background": "light"
     },
     "output_type": "display_data"
    },
    {
     "data": {
      "image/png": "[encoded data removed]",
      "text/plain": [
       "<Figure size 432x288 with 1 Axes>"
      ]
     },
     "metadata": {
      "needs_background": "light"
     },
     "output_type": "display_data"
    },
    {
     "data": {
      "image/png": "[encoded data removed]",
      "text/plain": [
       "<Figure size 432x288 with 1 Axes>"
      ]
     },
     "metadata": {
      "needs_background": "light"
     },
     "output_type": "display_data"
    }
   ],
   "source": [
    "comp = pd.DataFrame()\n",
    "comp[\"Classification\"] = Class\n",
    "comp[\"Best Parameters\"] = Best_Parameters\n",
    "comp[\"Precision\"] = Precision\n",
    "comp[\"Recall\"] = Recall\n",
    "comp[\"Accuracy\"] = Accuracy\n",
    "comp[\"F1\"] = F1  ##check f score per class, if imbalanced, class weighting\n",
    "comp[\"Balanced Accuracy\"] = Balanced_Acc\n",
    "comp[\"Cohen Kappa\"] = Kappa\n",
    "comp[\"Confusion Matrix\"] = Confusion_Matrix\n",
    "plt.bar(x = comp[\"Classification\"],height = comp[\"Accuracy\"])\n",
    "plt.title(\"Barchart for Accuracy\")\n",
    "plt.xlabel(\"Classification Algorithm\")\n",
    "plt.ylabel(\"Score\")\n",
    "plt.show()\n",
    "plt.bar(x = comp[\"Classification\"],height = comp[\"Precision\"])\n",
    "plt.title(\"Barchart for Precision\")\n",
    "plt.xlabel(\"Classification Algorithm\")\n",
    "plt.ylabel(\"Score\")\n",
    "plt.show()\n",
    "plt.bar(x = comp[\"Classification\"],height = comp[\"Recall\"])\n",
    "plt.title(\"Barchart for Recall\")\n",
    "plt.xlabel(\"Classification Algorithm\")\n",
    "plt.ylabel(\"Score\")\n",
    "plt.show()\n",
    "plt.bar(x = comp[\"Classification\"],height = comp[\"F1\"])\n",
    "plt.title(\"Barchart for F1\")\n",
    "plt.xlabel(\"Classification Algorithm\")\n",
    "plt.ylabel(\"Score\")\n",
    "plt.savefig('./figures/dec_f1.png')\n",
    "plt.show()\n",
    "plt.bar(x = comp[\"Classification\"],height = comp[\"Balanced Accuracy\"])\n",
    "plt.title(\"Barchart for Balanced Accuracy\")\n",
    "plt.xlabel(\"Classification Algorithm\")\n",
    "plt.ylabel(\"Score\")\n",
    "plt.savefig('./figures/dec_balanced.png')\n",
    "plt.show()\n",
    "plt.bar(x = comp[\"Classification\"],height = comp[\"Cohen Kappa\"])\n",
    "plt.title(\"Barchart for Cohen Kappa\")\n",
    "plt.xlabel(\"Classification Algorithm\")\n",
    "plt.ylabel(\"Score\")\n",
    "plt.savefig('./figures/dec_kappa.png')\n",
    "plt.show()"
   ]
  },
  {
   "cell_type": "code",
   "execution_count": 231,
   "metadata": {},
   "outputs": [
    {
     "data": {
      "text/plain": [
       "Classification                                                      LR\n",
       "Best Parameters                                      {'penalty': 'l2'}\n",
       "Precision                                                     0.958415\n",
       "Recall                                                        0.957486\n",
       "Accuracy                                                      0.957486\n",
       "F1                                                            0.957306\n",
       "Balanced Accuracy                                              0.93629\n",
       "Cohen Kappa                                                   0.944023\n",
       "Confusion Matrix     [[146, 0, 4, 4, 0], [2, 118, 1, 0, 0], [0, 0, ...\n",
       "Name: 3, dtype: object"
      ]
     },
     "execution_count": 231,
     "metadata": {},
     "output_type": "execute_result"
    }
   ],
   "source": [
    "comp.iloc[comp['F1'].idxmax(),]"
   ]
  },
  {
   "cell_type": "code",
   "execution_count": 232,
   "metadata": {},
   "outputs": [],
   "source": [
    "comp.iloc[comp[\"Balanced Accuracy\"].idxmax(),].to_csv(\"./results/DEC/best_dec_pm.csv\")"
   ]
  },
  {
   "cell_type": "code",
   "execution_count": 233,
   "metadata": {},
   "outputs": [
    {
     "data": {
      "text/plain": [
       "Classification                                                      LR\n",
       "Best Parameters                                      {'penalty': 'l2'}\n",
       "Precision                                                     0.958415\n",
       "Recall                                                        0.957486\n",
       "Accuracy                                                      0.957486\n",
       "F1                                                            0.957306\n",
       "Balanced Accuracy                                              0.93629\n",
       "Cohen Kappa                                                   0.944023\n",
       "Confusion Matrix     [[146, 0, 4, 4, 0], [2, 118, 1, 0, 0], [0, 0, ...\n",
       "Name: 3, dtype: object"
      ]
     },
     "execution_count": 233,
     "metadata": {},
     "output_type": "execute_result"
    }
   ],
   "source": [
    "comp.iloc[comp[\"Cohen Kappa\"].idxmax(),]"
   ]
  },
  {
   "cell_type": "code",
   "execution_count": 234,
   "metadata": {},
   "outputs": [
    {
     "data": {
      "text/plain": [
       "0.9345173194145903"
      ]
     },
     "execution_count": 234,
     "metadata": {},
     "output_type": "execute_result"
    }
   ],
   "source": [
    "from sklearn.metrics import matthews_corrcoef\n",
    "matthews_corrcoef(y_test, y_prd)"
   ]
  },
  {
   "cell_type": "code",
   "execution_count": null,
   "metadata": {},
   "outputs": [],
   "source": []
  }
 ],
 "metadata": {
  "interpreter": {
   "hash": "7238479946d328d84d53ba25d2c56d0b32aa4428b9d89a4dda79d16731b30258"
  },
  "kernelspec": {
   "display_name": "Python 3.10.4 ('.venv': venv)",
   "language": "python",
   "name": "python3"
  },
  "language_info": {
   "codemirror_mode": {
    "name": "ipython",
    "version": 3
   },
   "file_extension": ".py",
   "mimetype": "text/x-python",
   "name": "python",
   "nbconvert_exporter": "python",
   "pygments_lexer": "ipython3",
   "version": "3.10.4"
  },
  "orig_nbformat": 4
 },
 "nbformat": 4,
 "nbformat_minor": 2
}
